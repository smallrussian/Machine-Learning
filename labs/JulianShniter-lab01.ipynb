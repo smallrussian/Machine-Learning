{
 "cells": [
  {
   "cell_type": "markdown",
   "metadata": {},
   "source": [
    "## Data Type Review\n",
    "\n",
    "I honestly just copied from Geeks for Geeks here because I am extremely experienced with Python"
   ]
  },
  {
   "cell_type": "code",
   "execution_count": 1,
   "metadata": {},
   "outputs": [],
   "source": [
    "x = \"Hello World\"\n",
    "x = 50\n",
    "x = 60.5\n",
    "x = 3j\n",
    "x = [\"geeks\", \"for\", \"geeks\"]\n",
    "x = (\"geeks\", \"for\", \"geeks\")\n",
    "x = range(10)\n",
    "x = {\"name\": \"Suraj\", \"age\": 24}\n",
    "x = {\"geeks\", \"for\", \"geeks\"}\n",
    "x = frozenset({\"geeks\", \"for\", \"geeks\"})\n",
    "x = True\n",
    "x = b\"Geeks\"\n",
    "x = bytearray(4)\n",
    "x = memoryview(bytes(6))\n",
    "x = None"
   ]
  },
  {
   "cell_type": "markdown",
   "metadata": {},
   "source": [
    "## Programming Warmup"
   ]
  },
  {
   "cell_type": "code",
   "execution_count": 2,
   "metadata": {},
   "outputs": [],
   "source": [
    "def encode(string):\n",
    "    nested_list = []\n",
    "    encoded_dict = {\n",
    "        'A': [1,0,0,0],\n",
    "        'C': [0,1,0,0],\n",
    "        'G': [0,0,1,0],\n",
    "        'T': [0,0,0,1] \n",
    "    }\n",
    "    for char in string:\n",
    "        if char.upper() not in encoded_dict:\n",
    "            nested_list.append([0,0,0,0])\n",
    "        else:\n",
    "            nested_list.append(encoded_dict[char.upper()])\n",
    "    return nested_list"
   ]
  },
  {
   "cell_type": "code",
   "execution_count": 3,
   "metadata": {},
   "outputs": [
    {
     "name": "stdout",
     "output_type": "stream",
     "text": [
      "[[1, 0, 0, 0], [0, 0, 1, 0], [0, 0, 1, 0], [0, 0, 0, 1], [0, 0, 1, 0], [0, 1, 0, 0], [0, 0, 1, 0], [0, 0, 0, 0]]\n",
      "[[1, 0, 0, 0], [0, 1, 0, 0], [0, 0, 0, 0], [0, 1, 0, 0], [0, 0, 0, 1], [0, 0, 1, 0], [1, 0, 0, 0]]\n",
      "[[0, 0, 0, 1], [0, 0, 1, 0], [0, 1, 0, 0], [1, 0, 0, 0], [1, 0, 0, 0], [1, 0, 0, 0], [0, 0, 1, 0]]\n",
      "[[1, 0, 0, 0], [1, 0, 0, 0], [0, 0, 0, 0], [0, 0, 0, 0], [0, 1, 0, 0], [0, 0, 0, 0], [0, 0, 0, 0], [0, 0, 0, 0]]\n"
     ]
    }
   ],
   "source": [
    "print(encode('AGGTGCGX'))\n",
    "print(encode('ACNCTGA'))\n",
    "print(encode('TGCAAAG'))\n",
    "print(encode('AASECVFF'))\n"
   ]
  }
 ],
 "metadata": {
  "kernelspec": {
   "display_name": "Python 3",
   "language": "python",
   "name": "python3"
  },
  "language_info": {
   "codemirror_mode": {
    "name": "ipython",
    "version": 3
   },
   "file_extension": ".py",
   "mimetype": "text/x-python",
   "name": "python",
   "nbconvert_exporter": "python",
   "pygments_lexer": "ipython3",
   "version": "3.11.4"
  }
 },
 "nbformat": 4,
 "nbformat_minor": 2
}
