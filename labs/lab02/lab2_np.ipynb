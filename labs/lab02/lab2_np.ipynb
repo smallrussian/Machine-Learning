{
 "cells": [
  {
   "cell_type": "markdown",
   "metadata": {},
   "source": [
    "### NumPy Version"
   ]
  },
  {
   "cell_type": "code",
   "execution_count": 1,
   "metadata": {},
   "outputs": [
    {
     "name": "stdout",
     "output_type": "stream",
     "text": [
      "Requirement already satisfied: numpy in c:\\users\\julian\\appdata\\local\\programs\\python\\python311\\lib\\site-packages (1.25.0)\n",
      "Note: you may need to restart the kernel to use updated packages.\n"
     ]
    },
    {
     "name": "stderr",
     "output_type": "stream",
     "text": [
      "\n",
      "[notice] A new release of pip is available: 24.1.2 -> 24.2\n",
      "[notice] To update, run: python.exe -m pip install --upgrade pip\n"
     ]
    }
   ],
   "source": [
    "%pip install numpy"
   ]
  },
  {
   "cell_type": "code",
   "execution_count": 2,
   "metadata": {},
   "outputs": [],
   "source": [
    "import numpy as np"
   ]
  },
  {
   "cell_type": "code",
   "execution_count": 3,
   "metadata": {},
   "outputs": [
    {
     "name": "stdout",
     "output_type": "stream",
     "text": [
      "1.25.0\n"
     ]
    }
   ],
   "source": [
    "print(np.__version__)"
   ]
  },
  {
   "cell_type": "code",
   "execution_count": 4,
   "metadata": {},
   "outputs": [],
   "source": [
    "# Define the housing price related feature for location\n",
    "list_row1  = [-121.87, 37.23, 19, 7357, 963, 3018, 981, 6.9473]\n",
    "list_row2  = [-121.12, 39.03, 17, 838, 161, 388, 142, 3.6563]"
   ]
  },
  {
   "cell_type": "code",
   "execution_count": 5,
   "metadata": {},
   "outputs": [],
   "source": [
    "\n",
    "\n",
    "# create Two numpy arrays from row1 and row2\n",
    "np_row1 = np.array(list_row1)\n",
    "np_row2 = np.array(list_row2)\n",
    "\n"
   ]
  },
  {
   "cell_type": "code",
   "execution_count": 6,
   "metadata": {},
   "outputs": [
    {
     "name": "stdout",
     "output_type": "stream",
     "text": [
      "<class 'numpy.ndarray'>  vs  <class 'list'>\n"
     ]
    }
   ],
   "source": [
    "# check variables' data type\n",
    "print(type(np_row1), ' vs ', type(list_row1))"
   ]
  },
  {
   "cell_type": "code",
   "execution_count": 7,
   "metadata": {},
   "outputs": [
    {
     "name": "stdout",
     "output_type": "stream",
     "text": [
      "np_row1.shape:  (8,)\n"
     ]
    }
   ],
   "source": [
    "# check 1D Numpy array' dimension\n",
    "print(\"np_row1.shape: \", np_row1.shape)"
   ]
  },
  {
   "cell_type": "code",
   "execution_count": 8,
   "metadata": {},
   "outputs": [
    {
     "name": "stdout",
     "output_type": "stream",
     "text": [
      "np_row1:  [-1.2187e+02  3.7230e+01  1.9000e+01  7.3570e+03  9.6300e+02  3.0180e+03\n",
      "  9.8100e+02  6.9473e+00]\n"
     ]
    }
   ],
   "source": [
    "# Indexing in 1 dimension numpy vector (rank 1 -tensor)\n",
    "np_row1 = np.array([-121.87, 37.23, 19, 7357, 963, 3018, 981, 6.9473])\n",
    "print(\"np_row1: \", np_row1)"
   ]
  },
  {
   "cell_type": "code",
   "execution_count": 9,
   "metadata": {},
   "outputs": [
    {
     "name": "stdout",
     "output_type": "stream",
     "text": [
      "np_row1[0]:  -121.87\n",
      "np_row1[1]:  37.23\n"
     ]
    }
   ],
   "source": [
    "# Each element in the 1d array can be accessed by passing the positional index of the element.\n",
    "print(\"np_row1[0]: \", np_row1[0])\n",
    "print(\"np_row1[1]: \", np_row1[1])"
   ]
  },
  {
   "cell_type": "code",
   "execution_count": 10,
   "metadata": {},
   "outputs": [
    {
     "name": "stdout",
     "output_type": "stream",
     "text": [
      "np_rows:  [[-1.2187e+02  3.7230e+01  1.9000e+01  7.3570e+03  9.6300e+02  3.0180e+03\n",
      "   9.8100e+02  6.9473e+00]\n",
      " [-1.2112e+02  3.9030e+01  1.7000e+01  8.3800e+02  1.6100e+02  3.8800e+02\n",
      "   1.4200e+02  3.6563e+00]]\n",
      "np_rows.shape:  (2, 8)\n"
     ]
    }
   ],
   "source": [
    "# Created 2D Numpy Array based on nested list \n",
    "np_rows = np.array([\n",
    "  [-121.87, 37.23, 19, 7357, 963, 3018, 981, 6.9473],\n",
    "  [-121.12, 39.03, 17, 838, 161, 388, 142, 3.6563]\n",
    "])\n",
    "print(\"np_rows: \", np_rows)\n",
    "print(\"np_rows.shape: \", np_rows.shape)"
   ]
  },
  {
   "cell_type": "code",
   "execution_count": 11,
   "metadata": {},
   "outputs": [
    {
     "name": "stdout",
     "output_type": "stream",
     "text": [
      "np_rows[1, 2]:  17.0\n",
      "np_rows[1][2]:  17.0\n"
     ]
    }
   ],
   "source": [
    "# Indexing in 2 dimensions (rank 2 - tensor)\n",
    "# We can retrieve an element of the 2D Numpy array using two indices i and j - i selects the row, and j selects the column:\n",
    "# we can pass i-th row and j-th column in either one bracket or separate brackets ([]) \n",
    "print(\"np_rows[1, 2]: \", np_rows[1, 2]) # option 1\n",
    "print(\"np_rows[1][2]: \", np_rows[1][2]) # option 2"
   ]
  },
  {
   "cell_type": "code",
   "execution_count": 12,
   "metadata": {},
   "outputs": [
    {
     "name": "stdout",
     "output_type": "stream",
     "text": [
      "np_location1[1:4]:  [  37.23   19.   7357.  ]\n"
     ]
    }
   ],
   "source": [
    "# Slicing in 1 dimension numpy vector (rank 1 -tensor)\n",
    "# pick the second, third, and forth element from the array\n",
    "np_location1 = np.array([-121.87, 37.23, 19, 7357, 963, 3018, 981, 6.9473])\n",
    "print(\"np_location1[1:4]: \", np_location1[1:4]) "
   ]
  },
  {
   "cell_type": "code",
   "execution_count": 13,
   "metadata": {},
   "outputs": [
    {
     "name": "stdout",
     "output_type": "stream",
     "text": [
      "np_locations:  [[-1.2187e+02  3.7230e+01  1.9000e+01  7.3570e+03  9.6300e+02  3.0180e+03\n",
      "   9.8100e+02  6.9473e+00]\n",
      " [-1.2112e+02  3.9030e+01  1.7000e+01  8.3800e+02  1.6100e+02  3.8800e+02\n",
      "   1.4200e+02  3.6563e+00]\n",
      " [-1.1931e+02  3.6060e+01  2.0000e+01  2.2360e+03  4.3400e+02  1.4050e+03\n",
      "   4.1200e+02  1.8827e+00]]\n"
     ]
    }
   ],
   "source": [
    "# define 2d array\n",
    "np_locations = np.array([\n",
    "  [-121.87, 37.23, 19, 7357, 963, 3018, 981, 6.9473],\n",
    "  [-121.12, 39.03, 17, 838, 161, 388, 142, 3.6563],\n",
    "  [-119.31, 36.06, 20, 2236, 434, 1405, 412, 1.8827]\n",
    "])\n",
    "print(\"np_locations: \", np_locations)"
   ]
  },
  {
   "cell_type": "code",
   "execution_count": 14,
   "metadata": {},
   "outputs": [
    {
     "name": "stdout",
     "output_type": "stream",
     "text": [
      "np_locations[1:,2:4]:  [[  17.  838.]\n",
      " [  20. 2236.]]\n"
     ]
    }
   ],
   "source": [
    "\n",
    "# select all rows except 1st row\n",
    "# select 3rd and 4th column\n",
    "print(\"np_locations[1:,2:4]: \", np_locations[1:,2:4])\n"
   ]
  },
  {
   "cell_type": "code",
   "execution_count": 15,
   "metadata": {},
   "outputs": [
    {
     "name": "stdout",
     "output_type": "stream",
     "text": [
      "Matrix A:\n",
      "\n",
      "[[0.31586734 0.34775084]\n",
      " [0.82875602 0.04354343]]\n",
      "\n",
      "Matrix B:\n",
      "\n",
      "[[0.95988284 0.32425257]\n",
      " [0.70455136 0.81895288]]\n",
      "\n",
      "Matrix addition is:\n",
      "\n",
      "[[1.27575017 0.6720034 ]\n",
      " [1.53330738 0.86249631]]\n",
      "\n"
     ]
    }
   ],
   "source": [
    "## Peform matrix addition\n",
    "\n",
    "A = np.random.rand(2, 2)\n",
    "print(f\"Matrix A:\\n\\n{A}\\n\")\n",
    "B= np.random.rand(2, 2)\n",
    "print(f\"Matrix B:\\n\\n{B}\\n\")\n",
    "\n",
    "C = A + B\n",
    "print(f\"Matrix addition is:\\n\\n{C}\\n\")"
   ]
  },
  {
   "cell_type": "code",
   "execution_count": 16,
   "metadata": {},
   "outputs": [
    {
     "name": "stdout",
     "output_type": "stream",
     "text": [
      "np_location_sum:  [-242.99     76.26     36.     8195.     1124.     3406.     1123.\n",
      "   10.6036]\n"
     ]
    }
   ],
   "source": [
    "# adding the two arrays\n",
    "np_location1 = np.array([-121.87, 37.23, 19, 7357, 963, 3018, 981, 6.9473])\n",
    "np_location2 = np.array([-121.12, 39.03, 17, 838, 161, 388, 142, 3.6563])\n",
    "\n",
    "np_location_sum = np_location1 + np_location2\n",
    "\n",
    "print(\"np_location_sum: \",np_location_sum)"
   ]
  },
  {
   "cell_type": "code",
   "execution_count": 17,
   "metadata": {},
   "outputs": [
    {
     "name": "stdout",
     "output_type": "stream",
     "text": [
      "np_location1.sum():  12260.3073\n"
     ]
    }
   ],
   "source": [
    "# get sum of values in array\n",
    "print(\"np_location1.sum(): \", np_location1.sum())"
   ]
  },
  {
   "cell_type": "code",
   "execution_count": 18,
   "metadata": {},
   "outputs": [
    {
     "name": "stdout",
     "output_type": "stream",
     "text": [
      "np_location1.min():  -121.87\n"
     ]
    }
   ],
   "source": [
    "# get min of values in array\n",
    "print(\"np_location1.min(): \", np_location1.min())"
   ]
  },
  {
   "cell_type": "code",
   "execution_count": 19,
   "metadata": {},
   "outputs": [
    {
     "name": "stdout",
     "output_type": "stream",
     "text": [
      "np_location_concat:  [-1.2187e+02  3.7230e+01  1.9000e+01  7.3570e+03  9.6300e+02  3.0180e+03\n",
      "  9.8100e+02  6.9473e+00 -1.2112e+02  3.9030e+01  1.7000e+01  8.3800e+02\n",
      "  1.6100e+02  3.8800e+02  1.4200e+02  3.6563e+00]\n"
     ]
    }
   ],
   "source": [
    "# concatenate two 1D arrays\n",
    "list_location1 = [-121.87, 37.23, 19, 7357, 963, 3018, 981, 6.9473]\n",
    "list_location2 = [-121.12, 39.03, 17, 838, 161, 388, 142, 3.6563]\n",
    "\n",
    "np_location_concat = np.concatenate([list_location1, list_location2])\n",
    "\n",
    "print(\"np_location_concat: \", np_location_concat)"
   ]
  },
  {
   "cell_type": "markdown",
   "metadata": {},
   "source": [
    "## NumPy Problem 1\n"
   ]
  },
  {
   "cell_type": "markdown",
   "metadata": {},
   "source": [
    "#### Task 1"
   ]
  },
  {
   "cell_type": "code",
   "execution_count": 20,
   "metadata": {},
   "outputs": [
    {
     "name": "stdout",
     "output_type": "stream",
     "text": [
      "longitude shape: (7,)\n",
      "latitude shape: (7,)\n",
      "total_rooms shape: (7,)\n",
      "population shape: (7,)\n",
      "households shape: (7,)\n"
     ]
    }
   ],
   "source": [
    "longitude = np.array([-121.87, -121.12, -119.31, -118.03, -120.97,-118.18, -117.7])\n",
    "latitude = np.array([37.23, 39.03, 36.06, 33.78, 37.61, 34.02, 33.6])\n",
    "total_rooms = np.array([7357, 838, 2236, 3554, 1326, 2631, 2092])\n",
    "population = np.array([3018, 388, 1405, 1600, 884, 3228, 877])\n",
    "households = np.array([981, 142, 412, 537, 375, 701, 392])\n",
    "\n",
    "#print the shapes\n",
    "\n",
    "print(f\"longitude shape: {longitude.shape}\")\n",
    "print(f\"latitude shape: {latitude.shape}\")\n",
    "print(f\"total_rooms shape: {total_rooms.shape}\")\n",
    "print(f\"population shape: {population.shape}\")\n",
    "print(f\"households shape: {households.shape}\")\n",
    "\n"
   ]
  },
  {
   "cell_type": "markdown",
   "metadata": {},
   "source": [
    "#### Task 2"
   ]
  },
  {
   "cell_type": "code",
   "execution_count": 21,
   "metadata": {},
   "outputs": [
    {
     "name": "stdout",
     "output_type": "stream",
     "text": [
      "longitude sum: -837.1800000000001, mean: -119.59714285714287, min: -121.87, max: -117.7\n",
      "latitude sum: 251.32999999999998, mean: 35.90428571428571, min: 33.6, max: 39.03\n",
      "total_rooms sum: 20034, mean: 2862.0, min: 838, max: 7357\n",
      "population sum: 11400, mean: 1628.5714285714287, min: 388, max: 3228\n",
      "households sum: 3540, mean: 505.7142857142857, min: 142, max: 981\n"
     ]
    }
   ],
   "source": [
    "#calculate sum,mean,min,max of all the arrays\n",
    "print(f\"longitude sum: {longitude.sum()}, mean: {longitude.mean()}, min: {longitude.min()}, max: {longitude.max()}\")\n",
    "print(f\"latitude sum: {latitude.sum()}, mean: {latitude.mean()}, min: {latitude.min()}, max: {latitude.max()}\")\n",
    "print(f\"total_rooms sum: {total_rooms.sum()}, mean: {total_rooms.mean()}, min: {total_rooms.min()}, max: {total_rooms.max()}\")\n",
    "print(f\"population sum: {population.sum()}, mean: {population.mean()}, min: {population.min()}, max: {population.max()}\")\n",
    "print(f\"households sum: {households.sum()}, mean: {households.mean()}, min: {households.min()}, max: {households.max()}\")\n",
    "\n"
   ]
  },
  {
   "cell_type": "markdown",
   "metadata": {},
   "source": [
    "#### Task 3"
   ]
  },
  {
   "cell_type": "code",
   "execution_count": 22,
   "metadata": {},
   "outputs": [
    {
     "name": "stdout",
     "output_type": "stream",
     "text": [
      "2d array shape: (3, 8)\n"
     ]
    }
   ],
   "source": [
    "#create a 2d array from the above arrays\n",
    "np_2d_array = np.array([[-117.7,33.6,16,2092,489,877,392,3.0461],[-121.87, 37.23, 19, 7357, 963, 3018, 981, 6.9473],[-121.12, 39.03, 17, 838, 161, 388, 142, 3.6563]])\n",
    "print(f\"2d array shape: {np_2d_array.shape}\")"
   ]
  },
  {
   "cell_type": "markdown",
   "metadata": {},
   "source": [
    "## NumPy Problem 2"
   ]
  },
  {
   "cell_type": "code",
   "execution_count": 25,
   "metadata": {},
   "outputs": [],
   "source": [
    "import tensorflow as tf\n",
    "(mnist_images_training,_),(mnist_images_test,_) = tf.keras.datasets.mnist.load_data(path=\"mnist.npz\")"
   ]
  },
  {
   "cell_type": "markdown",
   "metadata": {},
   "source": [
    "#### Task 1"
   ]
  },
  {
   "cell_type": "code",
   "execution_count": 24,
   "metadata": {},
   "outputs": [
    {
     "name": "stdout",
     "output_type": "stream",
     "text": [
      "mnist_images_training shape: (60000, 28, 28)\n",
      "mnist_images_test shape: (10000, 28, 28)\n"
     ]
    }
   ],
   "source": [
    "print(f\"mnist_images_training shape: {mnist_images_training.shape}\")#tensor 3\n",
    "print(f\"mnist_images_test shape: {mnist_images_test.shape}\") #tensor 3\n",
    "\n"
   ]
  },
  {
   "cell_type": "markdown",
   "metadata": {},
   "source": [
    "#### Task 2"
   ]
  },
  {
   "cell_type": "code",
   "execution_count": 27,
   "metadata": {},
   "outputs": [
    {
     "name": "stdout",
     "output_type": "stream",
     "text": [
      "image shape: (28, 28)\n"
     ]
    }
   ],
   "source": [
    "image = mnist_images_training[0]\n",
    "print(f\"image shape: {image.shape}\")"
   ]
  },
  {
   "cell_type": "markdown",
   "metadata": {},
   "source": [
    "#### Task 3"
   ]
  },
  {
   "cell_type": "code",
   "execution_count": null,
   "metadata": {},
   "outputs": [],
   "source": [
    "images = mnist_images_training[0:10]\n",
    "print(f\"images shape: {images.shape}\")"
   ]
  }
 ],
 "metadata": {
  "kernelspec": {
   "display_name": "Python 3",
   "language": "python",
   "name": "python3"
  },
  "language_info": {
   "codemirror_mode": {
    "name": "ipython",
    "version": 3
   },
   "file_extension": ".py",
   "mimetype": "text/x-python",
   "name": "python",
   "nbconvert_exporter": "python",
   "pygments_lexer": "ipython3",
   "version": "3.11.4"
  }
 },
 "nbformat": 4,
 "nbformat_minor": 2
}
