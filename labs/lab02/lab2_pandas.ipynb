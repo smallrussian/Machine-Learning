{
 "cells": [
  {
   "cell_type": "code",
   "execution_count": 11,
   "metadata": {},
   "outputs": [
    {
     "name": "stdout",
     "output_type": "stream",
     "text": [
      "2.2.2\n"
     ]
    }
   ],
   "source": [
    "\n",
    "import pandas as pd\n",
    "print(pd.__version__)"
   ]
  },
  {
   "cell_type": "code",
   "execution_count": 12,
   "metadata": {},
   "outputs": [
    {
     "name": "stdout",
     "output_type": "stream",
     "text": [
      "0    -121.8700\n",
      "1      37.2300\n",
      "2      19.0000\n",
      "3    7357.0000\n",
      "4     963.0000\n",
      "5    3018.0000\n",
      "6     981.0000\n",
      "7       6.9473\n",
      "dtype: float64\n",
      "type(pd_location1):  <class 'pandas.core.series.Series'>\n"
     ]
    }
   ],
   "source": [
    "# create a numeric series\n",
    "list_location1 = [-121.87, 37.23, 19, 7357, 963, 3018, 981, 6.9473]\n",
    "pd_location1 = pd.Series(list_location1)\n",
    "\n",
    "print(pd_location1)\n",
    "\n",
    "print(\"type(pd_location1): \", type(pd_location1))"
   ]
  },
  {
   "cell_type": "code",
   "execution_count": 13,
   "metadata": {},
   "outputs": [
    {
     "name": "stdout",
     "output_type": "stream",
     "text": [
      "0                    Longitude\n",
      "1                     Latitude\n",
      "2    Housing_median_age (Year)\n",
      "3                  Total_rooms\n",
      "4               Total_bedrooms\n",
      "5                   Population\n",
      "6                   Households\n",
      "7                Median_income\n",
      "dtype: object\n"
     ]
    }
   ],
   "source": [
    "#To create an object series (for column names)\n",
    "table_column = ['Longitude', 'Latitude', 'Housing_median_age (Year)', 'Total_rooms', 'Total_bedrooms', 'Population', 'Households', 'Median_income']\n",
    "pd_table_column = pd.Series(table_column)\n",
    "print(pd_table_column)"
   ]
  },
  {
   "cell_type": "code",
   "execution_count": 14,
   "metadata": {},
   "outputs": [
    {
     "name": "stdout",
     "output_type": "stream",
     "text": [
      "0         Longitude\n",
      "1          Latitude\n",
      "2                25\n",
      "3       Total_rooms\n",
      "4    Total_bedrooms\n",
      "5              10.3\n",
      "6        Households\n",
      "7     Median_income\n",
      "dtype: object\n"
     ]
    }
   ],
   "source": [
    "#To create a series  by giving both numeric and string values\n",
    "table_values = ['Longitude', 'Latitude', 25, 'Total_rooms', 'Total_bedrooms', 10.3, 'Households', 'Median_income']\n",
    "pd_table_values = pd.Series(table_values)\n",
    "print(pd_table_values)"
   ]
  },
  {
   "cell_type": "code",
   "execution_count": 15,
   "metadata": {},
   "outputs": [
    {
     "data": {
      "text/plain": [
       "location1   -113.0\n",
       "location2   -111.2\n",
       "location3   -112.0\n",
       "location4   -110.0\n",
       "dtype: float64"
      ]
     },
     "execution_count": 15,
     "metadata": {},
     "output_type": "execute_result"
    }
   ],
   "source": [
    "# To create a series from a dictionary\n",
    "longitude_column = {'location1': -113, 'location2': -111.2, 'location3': -112, 'location4': -110}\n",
    "pd.Series(longitude_column)"
   ]
  },
  {
   "cell_type": "code",
   "execution_count": 16,
   "metadata": {},
   "outputs": [
    {
     "name": "stdout",
     "output_type": "stream",
     "text": [
      "      Sample  Longitude  Latitude\n",
      "0  location1    -121.87     37.23\n",
      "1  location2    -121.12     39.03\n",
      "2  location3    -119.31     36.06\n",
      "3  location4    -118.03     33.78\n",
      "4  location5    -120.97     37.61\n",
      "5  location6    -118.18     34.02\n"
     ]
    }
   ],
   "source": [
    "# Creating a 2d data frame a dictionary\n",
    "data = {'Sample': ['location1', 'location2', 'location3', 'location4', 'location5', 'location6'],\n",
    "'Longitude': [-121.87, -121.12, -119.31, -118.03, -120.97, -118.18],\n",
    "'Latitude': [37.23, 39.03, 36.06, 33.78, 37.61, 34.02]\n",
    "}\n",
    "\n",
    "df_data = pd.DataFrame(data)\n",
    "\n",
    "print(df_data)"
   ]
  },
  {
   "cell_type": "markdown",
   "metadata": {},
   "source": [
    "## Problem 1"
   ]
  },
  {
   "cell_type": "markdown",
   "metadata": {},
   "source": [
    "#### Task 1"
   ]
  },
  {
   "cell_type": "code",
   "execution_count": 17,
   "metadata": {},
   "outputs": [],
   "source": [
    "# Load the ' housing.csv Download housing.csv' data into python using Pandas library.\n",
    "housing = pd.read_csv('housing-4-1.csv')"
   ]
  },
  {
   "cell_type": "markdown",
   "metadata": {},
   "source": [
    "#### Task 2"
   ]
  },
  {
   "cell_type": "code",
   "execution_count": 18,
   "metadata": {},
   "outputs": [
    {
     "name": "stdout",
     "output_type": "stream",
     "text": [
      "          longitude      latitude  housing_median_age   total_rooms  \\\n",
      "count  20640.000000  20640.000000        20640.000000  20640.000000   \n",
      "mean    -119.569704     35.631861           28.639486   2635.763081   \n",
      "std        2.003532      2.135952           12.585558   2181.615252   \n",
      "min     -124.350000     32.540000            1.000000      2.000000   \n",
      "25%     -121.800000     33.930000           18.000000   1447.750000   \n",
      "50%     -118.490000     34.260000           29.000000   2127.000000   \n",
      "75%     -118.010000     37.710000           37.000000   3148.000000   \n",
      "max     -114.310000     41.950000           52.000000  39320.000000   \n",
      "\n",
      "       total_bedrooms    population    households  median_income  \\\n",
      "count    20433.000000  20640.000000  20640.000000   20640.000000   \n",
      "mean       537.870553   1425.476744    499.539680       3.870671   \n",
      "std        421.385070   1132.462122    382.329753       1.899822   \n",
      "min          1.000000      3.000000      1.000000       0.499900   \n",
      "25%        296.000000    787.000000    280.000000       2.563400   \n",
      "50%        435.000000   1166.000000    409.000000       3.534800   \n",
      "75%        647.000000   1725.000000    605.000000       4.743250   \n",
      "max       6445.000000  35682.000000   6082.000000      15.000100   \n",
      "\n",
      "       median_house_value  \n",
      "count        20640.000000  \n",
      "mean        206855.816909  \n",
      "std         115395.615874  \n",
      "min          14999.000000  \n",
      "25%         119600.000000  \n",
      "50%         179700.000000  \n",
      "75%         264725.000000  \n",
      "max         500001.000000  \n"
     ]
    }
   ],
   "source": [
    "print(housing.describe())"
   ]
  },
  {
   "cell_type": "markdown",
   "metadata": {},
   "source": [
    "#### Task 3"
   ]
  },
  {
   "cell_type": "code",
   "execution_count": 19,
   "metadata": {},
   "outputs": [
    {
     "name": "stdout",
     "output_type": "stream",
     "text": [
      "<class 'pandas.core.frame.DataFrame'>\n",
      "RangeIndex: 20640 entries, 0 to 20639\n",
      "Data columns (total 9 columns):\n",
      " #   Column              Non-Null Count  Dtype  \n",
      "---  ------              --------------  -----  \n",
      " 0   longitude           20640 non-null  float64\n",
      " 1   latitude            20640 non-null  float64\n",
      " 2   housing_median_age  20640 non-null  float64\n",
      " 3   total_rooms         20640 non-null  float64\n",
      " 4   total_bedrooms      20433 non-null  float64\n",
      " 5   population          20640 non-null  float64\n",
      " 6   households          20640 non-null  float64\n",
      " 7   median_income       20640 non-null  float64\n",
      " 8   median_house_value  20640 non-null  float64\n",
      "dtypes: float64(9)\n",
      "memory usage: 1.4 MB\n",
      "None\n"
     ]
    }
   ],
   "source": [
    "###Check the Data types of values in each column of dataset using Pandas function (i.e., info()). Write code for the activity and print out the dataframe information. \n",
    "print(housing.info())"
   ]
  },
  {
   "cell_type": "markdown",
   "metadata": {},
   "source": [
    "#### Task 4"
   ]
  },
  {
   "cell_type": "code",
   "execution_count": 21,
   "metadata": {},
   "outputs": [
    {
     "name": "stdout",
     "output_type": "stream",
     "text": [
      "Collecting matplotlib\n",
      "  Downloading matplotlib-3.9.2-cp311-cp311-win_amd64.whl.metadata (11 kB)\n",
      "Collecting contourpy>=1.0.1 (from matplotlib)\n",
      "  Downloading contourpy-1.3.0-cp311-cp311-win_amd64.whl.metadata (5.4 kB)\n",
      "Collecting cycler>=0.10 (from matplotlib)\n",
      "  Downloading cycler-0.12.1-py3-none-any.whl.metadata (3.8 kB)\n",
      "Collecting fonttools>=4.22.0 (from matplotlib)\n",
      "  Downloading fonttools-4.53.1-cp311-cp311-win_amd64.whl.metadata (165 kB)\n",
      "     ---------------------------------------- 0.0/165.9 kB ? eta -:--:--\n",
      "     -------------------------------- ----- 143.4/165.9 kB 2.8 MB/s eta 0:00:01\n",
      "     -------------------------------------- 165.9/165.9 kB 3.3 MB/s eta 0:00:00\n",
      "Collecting kiwisolver>=1.3.1 (from matplotlib)\n",
      "  Downloading kiwisolver-1.4.7-cp311-cp311-win_amd64.whl.metadata (6.4 kB)\n",
      "Requirement already satisfied: numpy>=1.23 in c:\\users\\julian\\appdata\\local\\programs\\python\\python311\\lib\\site-packages (from matplotlib) (1.25.0)\n",
      "Requirement already satisfied: packaging>=20.0 in c:\\users\\julian\\appdata\\local\\programs\\python\\python311\\lib\\site-packages (from matplotlib) (23.2)\n",
      "Requirement already satisfied: pillow>=8 in c:\\users\\julian\\appdata\\local\\programs\\python\\python311\\lib\\site-packages (from matplotlib) (10.0.0)\n",
      "Requirement already satisfied: pyparsing>=2.3.1 in c:\\users\\julian\\appdata\\local\\programs\\python\\python311\\lib\\site-packages (from matplotlib) (3.1.0)\n",
      "Requirement already satisfied: python-dateutil>=2.7 in c:\\users\\julian\\appdata\\local\\programs\\python\\python311\\lib\\site-packages (from matplotlib) (2.8.2)\n",
      "Requirement already satisfied: six>=1.5 in c:\\users\\julian\\appdata\\local\\programs\\python\\python311\\lib\\site-packages (from python-dateutil>=2.7->matplotlib) (1.16.0)\n",
      "Downloading matplotlib-3.9.2-cp311-cp311-win_amd64.whl (7.8 MB)\n",
      "   ---------------------------------------- 0.0/7.8 MB ? eta -:--:--\n",
      "   -- ------------------------------------- 0.6/7.8 MB 12.2 MB/s eta 0:00:01\n",
      "   --------- ------------------------------ 2.0/7.8 MB 20.9 MB/s eta 0:00:01\n",
      "   --------------------- ------------------ 4.3/7.8 MB 34.3 MB/s eta 0:00:01\n",
      "   ---------------------------------------  7.8/7.8 MB 45.7 MB/s eta 0:00:01\n",
      "   ---------------------------------------- 7.8/7.8 MB 41.8 MB/s eta 0:00:00\n",
      "Downloading contourpy-1.3.0-cp311-cp311-win_amd64.whl (217 kB)\n",
      "   ---------------------------------------- 0.0/217.2 kB ? eta -:--:--\n",
      "   --------------------------------------- 217.2/217.2 kB 12.9 MB/s eta 0:00:00\n",
      "Downloading cycler-0.12.1-py3-none-any.whl (8.3 kB)\n",
      "Downloading fonttools-4.53.1-cp311-cp311-win_amd64.whl (2.2 MB)\n",
      "   ---------------------------------------- 0.0/2.2 MB ? eta -:--:--\n",
      "   ---------------------------------------- 2.2/2.2 MB 46.7 MB/s eta 0:00:00\n",
      "Downloading kiwisolver-1.4.7-cp311-cp311-win_amd64.whl (56 kB)\n",
      "   ---------------------------------------- 0.0/56.0 kB ? eta -:--:--\n",
      "   ---------------------------------------- 56.0/56.0 kB 2.9 MB/s eta 0:00:00\n",
      "Installing collected packages: kiwisolver, fonttools, cycler, contourpy, matplotlib\n",
      "Successfully installed contourpy-1.3.0 cycler-0.12.1 fonttools-4.53.1 kiwisolver-1.4.7 matplotlib-3.9.2\n",
      "Note: you may need to restart the kernel to use updated packages.\n"
     ]
    },
    {
     "name": "stderr",
     "output_type": "stream",
     "text": [
      "\n",
      "[notice] A new release of pip is available: 24.1.2 -> 24.2\n",
      "[notice] To update, run: python.exe -m pip install --upgrade pip\n"
     ]
    }
   ],
   "source": [
    "%pip install matplotlib"
   ]
  },
  {
   "cell_type": "code",
   "execution_count": 22,
   "metadata": {},
   "outputs": [
    {
     "data": {
      "text/plain": [
       "array([[<Axes: title={'center': 'longitude'}>,\n",
       "        <Axes: title={'center': 'latitude'}>]], dtype=object)"
      ]
     },
     "execution_count": 22,
     "metadata": {},
     "output_type": "execute_result"
    },
    {
     "data": {
      "image/png": "[encoded data removed]",
      "text/plain": [
       "<Figure size 640x480 with 2 Axes>"
      ]
     },
     "metadata": {},
     "output_type": "display_data"
    },
    {
     "ename": "",
     "evalue": "",
     "output_type": "error",
     "traceback": [
      "\u001b[1;31mThe Kernel crashed while executing code in the current cell or a previous cell. \n",
      "\u001b[1;31mPlease review the code in the cell(s) to identify a possible cause of the failure. \n",
      "\u001b[1;31mClick <a href='https://aka.ms/vscodeJupyterKernelCrash'>here</a> for more info. \n",
      "\u001b[1;31mView Jupyter <a href='command:jupyter.viewOutput'>log</a> for further details."
     ]
    }
   ],
   "source": [
    "#Pick at least two numeric columns, and draw graph using pandas function (i.e., histogram, scatter plot, etc.) Note: if no numeric columns are found in dataset, provide justification that none of columns in data are numeric columns\n",
    "pd.plotting.hist_frame(housing[['longitude', 'latitude']])"
   ]
  },
  {
   "cell_type": "markdown",
   "metadata": {},
   "source": [
    "#### Task 5\n",
    "\n",
    "There are no categorical columns because there is no qualtitative data here, just quantative data.\n"
   ]
  },
  {
   "cell_type": "markdown",
   "metadata": {},
   "source": [
    "## Problem 2"
   ]
  },
  {
   "cell_type": "markdown",
   "metadata": {},
   "source": [
    "#### Task 1\n",
    "\n",
    "This dataset, related to health and medicine, contains 32 instances and 56 integer-based features, with missing values. It is used for a classification task to distinguish between three types of pathological lung cancers. Models such as RDA, KNN, and the optimal discriminant plane have been applied, with varying accuracy rates (62.5%, 53.1%, and 59.4%, respectively). The data was used to illustrate the power of the optimal discriminant plane, despite being ill-posed, with some features containing missing or altered values."
   ]
  },
  {
   "cell_type": "markdown",
   "metadata": {},
   "source": [
    "#### Task 2\n",
    "\n",
    "i have no idea how to import the zip into python fso im doing it the other way listed on this website"
   ]
  },
  {
   "cell_type": "code",
   "execution_count": 1,
   "metadata": {},
   "outputs": [
    {
     "name": "stdout",
     "output_type": "stream",
     "text": [
      "Collecting ucimlrepo\n",
      "  Downloading ucimlrepo-0.0.7-py3-none-any.whl.metadata (5.5 kB)\n",
      "Requirement already satisfied: pandas>=1.0.0 in c:\\users\\julian\\appdata\\local\\programs\\python\\python311\\lib\\site-packages (from ucimlrepo) (2.2.2)\n",
      "Requirement already satisfied: certifi>=2020.12.5 in c:\\users\\julian\\appdata\\local\\programs\\python\\python311\\lib\\site-packages (from ucimlrepo) (2024.7.4)\n",
      "Requirement already satisfied: numpy>=1.23.2 in c:\\users\\julian\\appdata\\local\\programs\\python\\python311\\lib\\site-packages (from pandas>=1.0.0->ucimlrepo) (1.25.0)\n",
      "Requirement already satisfied: python-dateutil>=2.8.2 in c:\\users\\julian\\appdata\\local\\programs\\python\\python311\\lib\\site-packages (from pandas>=1.0.0->ucimlrepo) (2.8.2)\n",
      "Requirement already satisfied: pytz>=2020.1 in c:\\users\\julian\\appdata\\local\\programs\\python\\python311\\lib\\site-packages (from pandas>=1.0.0->ucimlrepo) (2024.1)\n",
      "Requirement already satisfied: tzdata>=2022.7 in c:\\users\\julian\\appdata\\local\\programs\\python\\python311\\lib\\site-packages (from pandas>=1.0.0->ucimlrepo) (2023.3)\n",
      "Requirement already satisfied: six>=1.5 in c:\\users\\julian\\appdata\\local\\programs\\python\\python311\\lib\\site-packages (from python-dateutil>=2.8.2->pandas>=1.0.0->ucimlrepo) (1.16.0)\n",
      "Downloading ucimlrepo-0.0.7-py3-none-any.whl (8.0 kB)\n",
      "Installing collected packages: ucimlrepo\n",
      "Successfully installed ucimlrepo-0.0.7\n",
      "Note: you may need to restart the kernel to use updated packages.\n"
     ]
    },
    {
     "name": "stderr",
     "output_type": "stream",
     "text": [
      "\n",
      "[notice] A new release of pip is available: 24.1.2 -> 24.2\n",
      "[notice] To update, run: python.exe -m pip install --upgrade pip\n"
     ]
    }
   ],
   "source": [
    "%pip install ucimlrepo\n"
   ]
  },
  {
   "cell_type": "code",
   "execution_count": 4,
   "metadata": {},
   "outputs": [
    {
     "name": "stdout",
     "output_type": "stream",
     "text": [
      "{'data': {'ids': None, 'features':     Attribute1  Attribute2  Attribute3  Attribute4  Attribute5  Attribute6  \\\n",
      "0            0           3           0         NaN           0           2   \n",
      "1            0           3           3         1.0           0           3   \n",
      "2            0           3           3         2.0           0           3   \n",
      "3            0           2           3         2.0           1           3   \n",
      "4            0           3           2         1.0           1           3   \n",
      "5            0           3           3         2.0           0           3   \n",
      "6            0           3           2         1.0           0           3   \n",
      "7            0           2           2         1.0           0           3   \n",
      "8            0           3           1         1.0           0           3   \n",
      "9            0           2           3         2.0           0           2   \n",
      "10           0           2           2         0.0           0           3   \n",
      "11           0           2           3         2.0           0           1   \n",
      "12           0           2           1         1.0           0           1   \n",
      "13           0           2           2         1.0           1           2   \n",
      "14           1           3           0         NaN           1           1   \n",
      "15           0           3           2         2.0           1           2   \n",
      "16           0           3           2         2.0           0           1   \n",
      "17           0           2           1         1.0           0           2   \n",
      "18           0           2           0         NaN           0           2   \n",
      "19           0           1           2         1.0           0           3   \n",
      "20           0           2           0         NaN           1           3   \n",
      "21           0           3           3         2.0           0           2   \n",
      "22           0           2           3         1.0           1           2   \n",
      "23           0           2           3         1.0           1           1   \n",
      "24           0           3           3         1.0           0           3   \n",
      "25           0           2           3         2.0           0           1   \n",
      "26           0           2           2         2.0           0           2   \n",
      "27           0           2           2         1.0           0           2   \n",
      "28           0           3           2         2.0           0           2   \n",
      "29           0           2           1         1.0           0           2   \n",
      "30           0           2           3         2.0           1           2   \n",
      "31           0           2           3         1.0           0           2   \n",
      "\n",
      "    Attribute7  Attribute8  Attribute9  Attribute10  ...  Attribute47  \\\n",
      "0            2           2           1            1  ...            2   \n",
      "1            1           3           1            1  ...            2   \n",
      "2            3           3           1            1  ...            2   \n",
      "3            3           3           1            2  ...            2   \n",
      "4            3           3           2            2  ...            2   \n",
      "5            3           3           1            2  ...            2   \n",
      "6            3           3           1            2  ...            2   \n",
      "7            1           3           3            3  ...            2   \n",
      "8            1           3           1            1  ...            2   \n",
      "9            2           2           1            2  ...            2   \n",
      "10           2           3           1            1  ...            2   \n",
      "11           2           1           1            2  ...            2   \n",
      "12           2           2           1            2  ...            2   \n",
      "13           3           3           1            1  ...            2   \n",
      "14           2           2           1            1  ...            2   \n",
      "15           2           2           1            1  ...            2   \n",
      "16           1           3           1            1  ...            2   \n",
      "17           1           3           1            1  ...            2   \n",
      "18           3           3           3            2  ...            2   \n",
      "19           3           3           1            2  ...            2   \n",
      "20           3           3           1            2  ...            2   \n",
      "21           1           3           1            1  ...            2   \n",
      "22           2           1           1            1  ...            3   \n",
      "23           2           1           1            1  ...            2   \n",
      "24           3           1           1            1  ...            2   \n",
      "25           2           2           1            2  ...            2   \n",
      "26           1           2           1            1  ...            2   \n",
      "27           2           2           1            1  ...            3   \n",
      "28           2           2           1            1  ...            2   \n",
      "29           2           1           1            1  ...            2   \n",
      "30           2           3           1            1  ...            2   \n",
      "31           3           3           1            1  ...            2   \n",
      "\n",
      "    Attribute48  Attribute49  Attribute50  Attribute51  Attribute52  \\\n",
      "0             2            2            2            2            1   \n",
      "1             2            2            2            2            2   \n",
      "2             2            2            2            2            2   \n",
      "3             2            2            2            2            2   \n",
      "4             2            2            2            2            2   \n",
      "5             2            2            2            2            2   \n",
      "6             2            2            2            1            2   \n",
      "7             2            1            2            2            2   \n",
      "8             2            2            2            2            2   \n",
      "9             2            2            1            3            2   \n",
      "10            2            2            2            2            2   \n",
      "11            2            2            2            2            1   \n",
      "12            2            2            2            2            2   \n",
      "13            2            2            2            2            1   \n",
      "14            2            2            2            2            2   \n",
      "15            2            2            2            2            2   \n",
      "16            2            2            2            2            2   \n",
      "17            2            2            2            2            1   \n",
      "18            2            2            2            2            2   \n",
      "19            2            2            2            2            1   \n",
      "20            2            2            2            1            2   \n",
      "21            2            1            2            2            2   \n",
      "22            3            3            3            1            3   \n",
      "23            2            2            2            2            2   \n",
      "24            2            2            2            3            2   \n",
      "25            2            2            1            3            1   \n",
      "26            2            2            2            2            2   \n",
      "27            3            2            2            3            2   \n",
      "28            2            2            3            1            2   \n",
      "29            2            3            2            2            2   \n",
      "30            2            2            2            2            2   \n",
      "31            2            2            2            2            2   \n",
      "\n",
      "    Attribute53  Attribute54  Attribute55  Attribute56  \n",
      "0             1            1            2            2  \n",
      "1             2            1            2            2  \n",
      "2             2            2            1            2  \n",
      "3             2            2            2            2  \n",
      "4             2            1            2            2  \n",
      "5             2            2            1            2  \n",
      "6             2            2            1            2  \n",
      "7             2            1            2            2  \n",
      "8             2            1            2            2  \n",
      "9             1            1            2            2  \n",
      "10            2            2            2            2  \n",
      "11            1            2            2            1  \n",
      "12            2            1            2            2  \n",
      "13            1            1            2            2  \n",
      "14            2            1            2            1  \n",
      "15            2            2            2            2  \n",
      "16            2            1            2            2  \n",
      "17            1            1            2            2  \n",
      "18            2            2            1            2  \n",
      "19            1            2            2            1  \n",
      "20            2            1            2            2  \n",
      "21            2            2            1            2  \n",
      "22            3            2            2            1  \n",
      "23            2            2            2            1  \n",
      "24            2            2            2            1  \n",
      "25            2            2            1            2  \n",
      "26            2            1            2            1  \n",
      "27            2            2            2            1  \n",
      "28            2            2            2            2  \n",
      "29            2            2            2            1  \n",
      "30            2            1            2            2  \n",
      "31            2            2            2            2  \n",
      "\n",
      "[32 rows x 56 columns], 'targets':     class\n",
      "0       1\n",
      "1       1\n",
      "2       1\n",
      "3       1\n",
      "4       1\n",
      "5       1\n",
      "6       1\n",
      "7       1\n",
      "8       1\n",
      "9       2\n",
      "10      2\n",
      "11      2\n",
      "12      2\n",
      "13      2\n",
      "14      2\n",
      "15      2\n",
      "16      2\n",
      "17      2\n",
      "18      2\n",
      "19      2\n",
      "20      2\n",
      "21      2\n",
      "22      3\n",
      "23      3\n",
      "24      3\n",
      "25      3\n",
      "26      3\n",
      "27      3\n",
      "28      3\n",
      "29      3\n",
      "30      3\n",
      "31      3, 'original':     class  Attribute1  Attribute2  Attribute3  Attribute4  Attribute5  \\\n",
      "0       1           0           3           0         NaN           0   \n",
      "1       1           0           3           3         1.0           0   \n",
      "2       1           0           3           3         2.0           0   \n",
      "3       1           0           2           3         2.0           1   \n",
      "4       1           0           3           2         1.0           1   \n",
      "5       1           0           3           3         2.0           0   \n",
      "6       1           0           3           2         1.0           0   \n",
      "7       1           0           2           2         1.0           0   \n",
      "8       1           0           3           1         1.0           0   \n",
      "9       2           0           2           3         2.0           0   \n",
      "10      2           0           2           2         0.0           0   \n",
      "11      2           0           2           3         2.0           0   \n",
      "12      2           0           2           1         1.0           0   \n",
      "13      2           0           2           2         1.0           1   \n",
      "14      2           1           3           0         NaN           1   \n",
      "15      2           0           3           2         2.0           1   \n",
      "16      2           0           3           2         2.0           0   \n",
      "17      2           0           2           1         1.0           0   \n",
      "18      2           0           2           0         NaN           0   \n",
      "19      2           0           1           2         1.0           0   \n",
      "20      2           0           2           0         NaN           1   \n",
      "21      2           0           3           3         2.0           0   \n",
      "22      3           0           2           3         1.0           1   \n",
      "23      3           0           2           3         1.0           1   \n",
      "24      3           0           3           3         1.0           0   \n",
      "25      3           0           2           3         2.0           0   \n",
      "26      3           0           2           2         2.0           0   \n",
      "27      3           0           2           2         1.0           0   \n",
      "28      3           0           3           2         2.0           0   \n",
      "29      3           0           2           1         1.0           0   \n",
      "30      3           0           2           3         2.0           1   \n",
      "31      3           0           2           3         1.0           0   \n",
      "\n",
      "    Attribute6  Attribute7  Attribute8  Attribute9  ...  Attribute47  \\\n",
      "0            2           2           2           1  ...            2   \n",
      "1            3           1           3           1  ...            2   \n",
      "2            3           3           3           1  ...            2   \n",
      "3            3           3           3           1  ...            2   \n",
      "4            3           3           3           2  ...            2   \n",
      "5            3           3           3           1  ...            2   \n",
      "6            3           3           3           1  ...            2   \n",
      "7            3           1           3           3  ...            2   \n",
      "8            3           1           3           1  ...            2   \n",
      "9            2           2           2           1  ...            2   \n",
      "10           3           2           3           1  ...            2   \n",
      "11           1           2           1           1  ...            2   \n",
      "12           1           2           2           1  ...            2   \n",
      "13           2           3           3           1  ...            2   \n",
      "14           1           2           2           1  ...            2   \n",
      "15           2           2           2           1  ...            2   \n",
      "16           1           1           3           1  ...            2   \n",
      "17           2           1           3           1  ...            2   \n",
      "18           2           3           3           3  ...            2   \n",
      "19           3           3           3           1  ...            2   \n",
      "20           3           3           3           1  ...            2   \n",
      "21           2           1           3           1  ...            2   \n",
      "22           2           2           1           1  ...            3   \n",
      "23           1           2           1           1  ...            2   \n",
      "24           3           3           1           1  ...            2   \n",
      "25           1           2           2           1  ...            2   \n",
      "26           2           1           2           1  ...            2   \n",
      "27           2           2           2           1  ...            3   \n",
      "28           2           2           2           1  ...            2   \n",
      "29           2           2           1           1  ...            2   \n",
      "30           2           2           3           1  ...            2   \n",
      "31           2           3           3           1  ...            2   \n",
      "\n",
      "    Attribute48  Attribute49  Attribute50  Attribute51  Attribute52  \\\n",
      "0             2            2            2            2            1   \n",
      "1             2            2            2            2            2   \n",
      "2             2            2            2            2            2   \n",
      "3             2            2            2            2            2   \n",
      "4             2            2            2            2            2   \n",
      "5             2            2            2            2            2   \n",
      "6             2            2            2            1            2   \n",
      "7             2            1            2            2            2   \n",
      "8             2            2            2            2            2   \n",
      "9             2            2            1            3            2   \n",
      "10            2            2            2            2            2   \n",
      "11            2            2            2            2            1   \n",
      "12            2            2            2            2            2   \n",
      "13            2            2            2            2            1   \n",
      "14            2            2            2            2            2   \n",
      "15            2            2            2            2            2   \n",
      "16            2            2            2            2            2   \n",
      "17            2            2            2            2            1   \n",
      "18            2            2            2            2            2   \n",
      "19            2            2            2            2            1   \n",
      "20            2            2            2            1            2   \n",
      "21            2            1            2            2            2   \n",
      "22            3            3            3            1            3   \n",
      "23            2            2            2            2            2   \n",
      "24            2            2            2            3            2   \n",
      "25            2            2            1            3            1   \n",
      "26            2            2            2            2            2   \n",
      "27            3            2            2            3            2   \n",
      "28            2            2            3            1            2   \n",
      "29            2            3            2            2            2   \n",
      "30            2            2            2            2            2   \n",
      "31            2            2            2            2            2   \n",
      "\n",
      "    Attribute53  Attribute54  Attribute55  Attribute56  \n",
      "0             1            1            2            2  \n",
      "1             2            1            2            2  \n",
      "2             2            2            1            2  \n",
      "3             2            2            2            2  \n",
      "4             2            1            2            2  \n",
      "5             2            2            1            2  \n",
      "6             2            2            1            2  \n",
      "7             2            1            2            2  \n",
      "8             2            1            2            2  \n",
      "9             1            1            2            2  \n",
      "10            2            2            2            2  \n",
      "11            1            2            2            1  \n",
      "12            2            1            2            2  \n",
      "13            1            1            2            2  \n",
      "14            2            1            2            1  \n",
      "15            2            2            2            2  \n",
      "16            2            1            2            2  \n",
      "17            1            1            2            2  \n",
      "18            2            2            1            2  \n",
      "19            1            2            2            1  \n",
      "20            2            1            2            2  \n",
      "21            2            2            1            2  \n",
      "22            3            2            2            1  \n",
      "23            2            2            2            1  \n",
      "24            2            2            2            1  \n",
      "25            2            2            1            2  \n",
      "26            2            1            2            1  \n",
      "27            2            2            2            1  \n",
      "28            2            2            2            2  \n",
      "29            2            2            2            1  \n",
      "30            2            1            2            2  \n",
      "31            2            2            2            2  \n",
      "\n",
      "[32 rows x 57 columns], 'headers': Index(['class', 'Attribute1', 'Attribute2', 'Attribute3', 'Attribute4',\n",
      "       'Attribute5', 'Attribute6', 'Attribute7', 'Attribute8', 'Attribute9',\n",
      "       'Attribute10', 'Attribute11', 'Attribute12', 'Attribute13',\n",
      "       'Attribute14', 'Attribute15', 'Attribute16', 'Attribute17',\n",
      "       'Attribute18', 'Attribute19', 'Attribute20', 'Attribute21',\n",
      "       'Attribute22', 'Attribute23', 'Attribute24', 'Attribute25',\n",
      "       'Attribute26', 'Attribute27', 'Attribute28', 'Attribute29',\n",
      "       'Attribute30', 'Attribute31', 'Attribute32', 'Attribute33',\n",
      "       'Attribute34', 'Attribute35', 'Attribute36', 'Attribute37',\n",
      "       'Attribute38', 'Attribute39', 'Attribute40', 'Attribute41',\n",
      "       'Attribute42', 'Attribute43', 'Attribute44', 'Attribute45',\n",
      "       'Attribute46', 'Attribute47', 'Attribute48', 'Attribute49',\n",
      "       'Attribute50', 'Attribute51', 'Attribute52', 'Attribute53',\n",
      "       'Attribute54', 'Attribute55', 'Attribute56'],\n",
      "      dtype='object')}, 'metadata': {'uci_id': 62, 'name': 'Lung Cancer', 'repository_url': 'https://archive.ics.uci.edu/dataset/62/lung+cancer', 'data_url': 'https://archive.ics.uci.edu/static/public/62/data.csv', 'abstract': 'Lung cancer data; no attribute definitions', 'area': 'Health and Medicine', 'tasks': ['Classification'], 'characteristics': ['Multivariate'], 'num_instances': 32, 'num_features': 56, 'feature_types': ['Integer'], 'demographics': [], 'target_col': ['class'], 'index_col': None, 'has_missing_values': 'yes', 'missing_values_symbol': 'NaN', 'year_of_dataset_creation': 1991, 'last_updated': 'Fri Nov 03 2023', 'dataset_doi': '10.24432/C57596', 'creators': ['Z.Q. Hong', 'J.Y Yang'], 'intro_paper': None, 'additional_info': {'summary': \"This data was used by Hong and Young to illustrate the power of the optimal discriminant plane even in ill-posed settings. Applying the KNN method in the resulting plane gave 77% accuracy. However, these results are strongly biased (See Aeberhard's second ref. above, or email to stefan@coral.cs.jcu.edu.au). Results obtained by Aeberhard et al. are :\\r\\n \\r\\nRDA : 62.5%, KNN 53.1%, Opt. Disc. Plane 59.4%\\r\\n\\r\\nThe data described 3 types of pathological lung cancers. The Authors give no information on the individual variables nor on where the data was originally used.\\r\\n\\r\\nNotes:\\r\\n-  In the original data 4 values for the fifth attribute were -1. These values have been changed to ? (unknown). (*)\\r\\n-  In the original data 1 value for the 39 attribute was 4.  This value has been changed to ? (unknown). (*)\", 'purpose': None, 'funded_by': None, 'instances_represent': None, 'recommended_data_splits': None, 'sensitive_data': None, 'preprocessing_description': None, 'variable_info': 'Attribute 1 is the class label.\\r\\n\\r\\nAll predictive attributes are nominal, taking on integer values 0-3', 'citation': None}}, 'variables':            name     role         type demographic description units  \\\n",
      "0         class   Target  Categorical        None        None  None   \n",
      "1    Attribute1  Feature  Categorical        None        None  None   \n",
      "2    Attribute2  Feature  Categorical        None        None  None   \n",
      "3    Attribute3  Feature  Categorical        None        None  None   \n",
      "4    Attribute4  Feature  Categorical        None        None  None   \n",
      "5    Attribute5  Feature  Categorical        None        None  None   \n",
      "6    Attribute6  Feature  Categorical        None        None  None   \n",
      "7    Attribute7  Feature  Categorical        None        None  None   \n",
      "8    Attribute8  Feature  Categorical        None        None  None   \n",
      "9    Attribute9  Feature  Categorical        None        None  None   \n",
      "10  Attribute10  Feature  Categorical        None        None  None   \n",
      "11  Attribute11  Feature  Categorical        None        None  None   \n",
      "12  Attribute12  Feature  Categorical        None        None  None   \n",
      "13  Attribute13  Feature  Categorical        None        None  None   \n",
      "14  Attribute14  Feature  Categorical        None        None  None   \n",
      "15  Attribute15  Feature  Categorical        None        None  None   \n",
      "16  Attribute16  Feature  Categorical        None        None  None   \n",
      "17  Attribute17  Feature  Categorical        None        None  None   \n",
      "18  Attribute18  Feature  Categorical        None        None  None   \n",
      "19  Attribute19  Feature  Categorical        None        None  None   \n",
      "20  Attribute20  Feature  Categorical        None        None  None   \n",
      "21  Attribute21  Feature  Categorical        None        None  None   \n",
      "22  Attribute22  Feature  Categorical        None        None  None   \n",
      "23  Attribute23  Feature  Categorical        None        None  None   \n",
      "24  Attribute24  Feature  Categorical        None        None  None   \n",
      "25  Attribute25  Feature  Categorical        None        None  None   \n",
      "26  Attribute26  Feature  Categorical        None        None  None   \n",
      "27  Attribute27  Feature  Categorical        None        None  None   \n",
      "28  Attribute28  Feature  Categorical        None        None  None   \n",
      "29  Attribute29  Feature  Categorical        None        None  None   \n",
      "30  Attribute30  Feature  Categorical        None        None  None   \n",
      "31  Attribute31  Feature  Categorical        None        None  None   \n",
      "32  Attribute32  Feature  Categorical        None        None  None   \n",
      "33  Attribute33  Feature  Categorical        None        None  None   \n",
      "34  Attribute34  Feature  Categorical        None        None  None   \n",
      "35  Attribute35  Feature  Categorical        None        None  None   \n",
      "36  Attribute36  Feature  Categorical        None        None  None   \n",
      "37  Attribute37  Feature  Categorical        None        None  None   \n",
      "38  Attribute38  Feature  Categorical        None        None  None   \n",
      "39  Attribute39  Feature  Categorical        None        None  None   \n",
      "40  Attribute40  Feature  Categorical        None        None  None   \n",
      "41  Attribute41  Feature  Categorical        None        None  None   \n",
      "42  Attribute42  Feature  Categorical        None        None  None   \n",
      "43  Attribute43  Feature  Categorical        None        None  None   \n",
      "44  Attribute44  Feature  Categorical        None        None  None   \n",
      "45  Attribute45  Feature  Categorical        None        None  None   \n",
      "46  Attribute46  Feature  Categorical        None        None  None   \n",
      "47  Attribute47  Feature  Categorical        None        None  None   \n",
      "48  Attribute48  Feature  Categorical        None        None  None   \n",
      "49  Attribute49  Feature  Categorical        None        None  None   \n",
      "50  Attribute50  Feature  Categorical        None        None  None   \n",
      "51  Attribute51  Feature  Categorical        None        None  None   \n",
      "52  Attribute52  Feature  Categorical        None        None  None   \n",
      "53  Attribute53  Feature  Categorical        None        None  None   \n",
      "54  Attribute54  Feature  Categorical        None        None  None   \n",
      "55  Attribute55  Feature  Categorical        None        None  None   \n",
      "56  Attribute56  Feature  Categorical        None        None  None   \n",
      "\n",
      "   missing_values  \n",
      "0              no  \n",
      "1              no  \n",
      "2              no  \n",
      "3              no  \n",
      "4             yes  \n",
      "5              no  \n",
      "6              no  \n",
      "7              no  \n",
      "8              no  \n",
      "9              no  \n",
      "10             no  \n",
      "11             no  \n",
      "12             no  \n",
      "13             no  \n",
      "14             no  \n",
      "15             no  \n",
      "16             no  \n",
      "17             no  \n",
      "18             no  \n",
      "19             no  \n",
      "20             no  \n",
      "21             no  \n",
      "22             no  \n",
      "23             no  \n",
      "24             no  \n",
      "25             no  \n",
      "26             no  \n",
      "27             no  \n",
      "28             no  \n",
      "29             no  \n",
      "30             no  \n",
      "31             no  \n",
      "32             no  \n",
      "33             no  \n",
      "34             no  \n",
      "35             no  \n",
      "36             no  \n",
      "37             no  \n",
      "38            yes  \n",
      "39             no  \n",
      "40             no  \n",
      "41             no  \n",
      "42             no  \n",
      "43             no  \n",
      "44             no  \n",
      "45             no  \n",
      "46             no  \n",
      "47             no  \n",
      "48             no  \n",
      "49             no  \n",
      "50             no  \n",
      "51             no  \n",
      "52             no  \n",
      "53             no  \n",
      "54             no  \n",
      "55             no  \n",
      "56             no  }\n"
     ]
    }
   ],
   "source": [
    "from ucimlrepo import fetch_ucirepo \n",
    "lung_cancer = fetch_ucirepo(id=62) \n",
    "\n",
    "print(lung_cancer)"
   ]
  }
 ],
 "metadata": {
  "kernelspec": {
   "display_name": "Python 3",
   "language": "python",
   "name": "python3"
  },
  "language_info": {
   "codemirror_mode": {
    "name": "ipython",
    "version": 3
   },
   "file_extension": ".py",
   "mimetype": "text/x-python",
   "name": "python",
   "nbconvert_exporter": "python",
   "pygments_lexer": "ipython3",
   "version": "3.11.4"
  }
 },
 "nbformat": 4,
 "nbformat_minor": 2
}
